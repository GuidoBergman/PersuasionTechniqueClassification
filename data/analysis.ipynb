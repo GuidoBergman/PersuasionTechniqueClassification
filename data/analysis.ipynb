{
 "cells": [
  {
   "cell_type": "code",
   "execution_count": 8,
   "metadata": {},
   "outputs": [],
   "source": [
    "from loader import load_data\n",
    "import pprint"
   ]
  },
  {
   "cell_type": "code",
   "execution_count": 2,
   "metadata": {},
   "outputs": [
    {
     "name": "stdout",
     "output_type": "stream",
     "text": [
      "### data already downloaded, skipping download ###\n"
     ]
    },
    {
     "name": "stderr",
     "output_type": "stream",
     "text": [
      "/Users/ludwig/Repositories/seq2seq-slr/.venv/lib/python3.9/site-packages/datasets/dataset_dict.py:1241: FutureWarning: 'fs' was is deprecated in favor of 'storage_options' in version 2.8.0 and will be removed in 3.0.0.\n",
      "You can remove this warning by passing 'storage_options=fs.storage_options' instead.\n",
      "  warnings.warn(\n"
     ]
    }
   ],
   "source": [
    "ds = load_data(langs=(\"en\",),quality=(\"gold\",\"silver\"))"
   ]
  },
  {
   "cell_type": "code",
   "execution_count": 3,
   "metadata": {},
   "outputs": [],
   "source": [
    "label_list = ds[\"train\"].features[\"verbnet\"].feature.feature.names"
   ]
  },
  {
   "cell_type": "code",
   "execution_count": 4,
   "metadata": {},
   "outputs": [
    {
     "name": "stdout",
     "output_type": "stream",
     "text": [
      "{'0': 0, 'Agent': 0, 'Asset': 0, 'Attribute': 0, 'AttributeOf': 0, 'Beneficiary': 0, 'Causer': 0, 'Co-Agent': 0, 'Co-Patient': 0, 'Co-Theme': 0, 'Consumer': 0, 'Destination': 0, 'Duration': 0, 'Experiencer': 0, 'Finish': 0, 'Frequency': 0, 'Goal': 0, 'Instrument': 0, 'Instance': 0, 'InstanceOf': 0, 'Location': 0, 'Manner': 0, 'Material': 0, 'Path': 0, 'Patient': 0, 'Pivot': 0, 'Product': 0, 'Recipient': 0, 'Result': 0, 'Source': 0, 'Start': 0, 'Stimulus': 0, 'Theme': 0, 'Time': 0, 'Topic': 0, 'Value': 0, 'Bearer': 0, 'Colour': 0, 'ColourOf': 0, 'ContentOf': 0, 'Content': 0, 'Creator': 0, 'Degree': 0, 'MadeOf': 0, 'Name': 0, 'Of': 0, 'Operand': 0, 'Owner': 0, 'Part': 0, 'PartOf': 0, 'Player': 0, 'Quantity': 0, 'Role': 0, 'Sub': 0, 'SubOf': 0, 'Title': 0, 'Unit': 0, 'User': 0, 'ClockTime': 0, 'DayOfMonth': 0, 'DayOfWeek': 0, 'Decade': 0, 'MonthOfYear': 0, 'YearOfCentury': 0, 'Affector': 0, 'Context': 0, 'Equal': 0, 'Extent': 0, 'Precondition': 0, 'Measure': 0, 'Cause': 0, 'Order': 0, 'Participant': 0, 'Similar': 0}\n"
     ]
    }
   ],
   "source": [
    "label_dict = {}\n",
    "\n",
    "for label in label_list:\n",
    "    label_dict[label] = 0"
   ]
  },
  {
   "cell_type": "code",
   "execution_count": 5,
   "metadata": {},
   "outputs": [],
   "source": [
    "def count_label(example):\n",
    "\n",
    "    for token in example[\"verbnet\"]:\n",
    "        for role in token:\n",
    "            role_name = label_list[role]\n",
    "            label_dict[role_name] += 1"
   ]
  },
  {
   "cell_type": "code",
   "execution_count": 6,
   "metadata": {},
   "outputs": [
    {
     "data": {
      "application/vnd.jupyter.widget-view+json": {
       "model_id": "b8c9e9e87de7477c971922a98457684d",
       "version_major": 2,
       "version_minor": 0
      },
      "text/plain": [
       "  0%|          | 0/124216 [00:00<?, ?ex/s]"
      ]
     },
     "metadata": {},
     "output_type": "display_data"
    },
    {
     "data": {
      "application/vnd.jupyter.widget-view+json": {
       "model_id": "220c4ef420b24d0fa448bcc1ddb22ead",
       "version_major": 2,
       "version_minor": 0
      },
      "text/plain": [
       "  0%|          | 0/13802 [00:00<?, ?ex/s]"
      ]
     },
     "metadata": {},
     "output_type": "display_data"
    },
    {
     "data": {
      "text/plain": [
       "DatasetDict({\n",
       "    train: Dataset({\n",
       "        features: ['tok', 'verbnet', 'sem', 'lang', 'quality', 'id'],\n",
       "        num_rows: 124216\n",
       "    })\n",
       "    test: Dataset({\n",
       "        features: ['tok', 'verbnet', 'sem', 'lang', 'quality', 'id'],\n",
       "        num_rows: 13802\n",
       "    })\n",
       "})"
      ]
     },
     "execution_count": 6,
     "metadata": {},
     "output_type": "execute_result"
    }
   ],
   "source": [
    "ds.map(count_label)\n"
   ]
  },
  {
   "cell_type": "code",
   "execution_count": 10,
   "metadata": {},
   "outputs": [
    {
     "name": "stdout",
     "output_type": "stream",
     "text": [
      "{'0': 1013153, 'Agent': 94519, 'Asset': 522, 'Attribute': 61287, 'AttributeOf': 37, 'Beneficiary': 4066, 'Causer': 2957, 'Co-Agent': 4533, 'Co-Patient': 372, 'Co-Theme': 19878, 'Consumer': 49, 'Destination': 13098, 'Duration': 2233, 'Experiencer': 28125, 'Finish': 701, 'Frequency': 35, 'Goal': 2291, 'Instrument': 2786, 'Instance': 10, 'InstanceOf': 118, 'Location': 32724, 'Manner': 9051, 'Material': 151, 'Path': 1485, 'Patient': 16842, 'Pivot': 11705, 'Product': 1556, 'Recipient': 7026, 'Result': 4117, 'Source': 11030, 'Start': 918, 'Stimulus': 24759, 'Theme': 153514, 'Time': 8794, 'Topic': 10446, 'Value': 2451, 'Bearer': 618, 'Colour': 2970, 'ColourOf': 0, 'ContentOf': 8, 'Content': 892, 'Creator': 7174, 'Degree': 0, 'MadeOf': 3957, 'Name': 3279, 'Of': 8708, 'Operand': 0, 'Owner': 1731, 'Part': 1812, 'PartOf': 19974, 'Player': 0, 'Quantity': 12564, 'Role': 497, 'Sub': 150, 'SubOf': 1244, 'Title': 1609, 'Unit': 40, 'User': 10062, 'ClockTime': 24, 'DayOfMonth': 3, 'DayOfWeek': 0, 'Decade': 0, 'MonthOfYear': 0, 'YearOfCentury': 0, 'Affector': 1, 'Context': 1918, 'Equal': 21121, 'Extent': 318, 'Precondition': 0, 'Measure': 0, 'Cause': 1, 'Order': 0, 'Participant': 0, 'Similar': 81}\n"
     ]
    }
   ],
   "source": [
    "print(label_dict)"
   ]
  },
  {
   "cell_type": "code",
   "execution_count": 11,
   "metadata": {},
   "outputs": [
    {
     "data": {
      "text/plain": [
       "74"
      ]
     },
     "execution_count": 11,
     "metadata": {},
     "output_type": "execute_result"
    }
   ],
   "source": [
    "len(label_dict.keys())"
   ]
  },
  {
   "cell_type": "code",
   "execution_count": 14,
   "metadata": {},
   "outputs": [
    {
     "name": "stdout",
     "output_type": "stream",
     "text": [
      "dict_values([1013153, 94519, 522, 61287, 37, 4066, 2957, 4533, 372, 19878, 49, 13098, 2233, 28125, 701, 35, 2291, 2786, 10, 118, 32724, 9051, 151, 1485, 16842, 11705, 1556, 7026, 4117, 11030, 918, 24759, 153514, 8794, 10446, 2451, 618, 2970, 0, 8, 892, 7174, 0, 3957, 3279, 8708, 0, 1731, 1812, 19974, 0, 12564, 497, 150, 1244, 1609, 40, 10062, 24, 3, 0, 0, 0, 0, 1, 1918, 21121, 318, 0, 0, 1, 0, 0, 81])\n"
     ]
    }
   ],
   "source": [
    "print(label_dict.values())"
   ]
  },
  {
   "cell_type": "code",
   "execution_count": 15,
   "metadata": {},
   "outputs": [
    {
     "name": "stdout",
     "output_type": "stream",
     "text": [
      "1648095\n"
     ]
    }
   ],
   "source": [
    "allTok = 0\n",
    "for value in label_dict.values():\n",
    "    allTok = allTok + value\n",
    "\n",
    "print(allTok)"
   ]
  },
  {
   "cell_type": "code",
   "execution_count": 24,
   "metadata": {},
   "outputs": [
    {
     "name": "stdout",
     "output_type": "stream",
     "text": [
      "{'0': 61.4742, 'Agent': 5.735, 'Asset': 0.0317, 'Attribute': 3.7187, 'AttributeOf': 0.0022, 'Beneficiary': 0.2467, 'Causer': 0.1794, 'Co-Agent': 0.275, 'Co-Patient': 0.0226, 'Co-Theme': 1.2061, 'Consumer': 0.003, 'Destination': 0.7947, 'Duration': 0.1355, 'Experiencer': 1.7065, 'Finish': 0.0425, 'Frequency': 0.0021, 'Goal': 0.139, 'Instrument': 0.169, 'Instance': 0.0006, 'InstanceOf': 0.0072, 'Location': 1.9856, 'Manner': 0.5492, 'Material': 0.0092, 'Path': 0.0901, 'Patient': 1.0219, 'Pivot': 0.7102, 'Product': 0.0944, 'Recipient': 0.4263, 'Result': 0.2498, 'Source': 0.6693, 'Start': 0.0557, 'Stimulus': 1.5023, 'Theme': 9.3146, 'Time': 0.5336, 'Topic': 0.6338, 'Value': 0.1487, 'Bearer': 0.0375, 'Colour': 0.1802, 'ColourOf': 0.0, 'ContentOf': 0.0005, 'Content': 0.0541, 'Creator': 0.4353, 'Degree': 0.0, 'MadeOf': 0.2401, 'Name': 0.199, 'Of': 0.5284, 'Operand': 0.0, 'Owner': 0.105, 'Part': 0.1099, 'PartOf': 1.2119, 'Player': 0.0, 'Quantity': 0.7623, 'Role': 0.0302, 'Sub': 0.0091, 'SubOf': 0.0755, 'Title': 0.0976, 'Unit': 0.0024, 'User': 0.6105, 'ClockTime': 0.0015, 'DayOfMonth': 0.0002, 'DayOfWeek': 0.0, 'Decade': 0.0, 'MonthOfYear': 0.0, 'YearOfCentury': 0.0, 'Affector': 0.0001, 'Context': 0.1164, 'Equal': 1.2815, 'Extent': 0.0193, 'Precondition': 0.0, 'Measure': 0.0, 'Cause': 0.0001, 'Order': 0.0, 'Participant': 0.0, 'Similar': 0.0049}\n"
     ]
    }
   ],
   "source": [
    "perc_labels = {}\n",
    "for key in label_dict.keys():\n",
    "    perc_labels[key] = round(label_dict[key] / allTok * 100, 4)\n",
    "\n",
    "print(perc_labels)"
   ]
  }
 ],
 "metadata": {
  "kernelspec": {
   "display_name": ".venv",
   "language": "python",
   "name": "python3"
  },
  "language_info": {
   "codemirror_mode": {
    "name": "ipython",
    "version": 3
   },
   "file_extension": ".py",
   "mimetype": "text/x-python",
   "name": "python",
   "nbconvert_exporter": "python",
   "pygments_lexer": "ipython3",
   "version": "3.9.16 (main, Jan  7 2023, 21:37:41) \n[Clang 14.0.0 (clang-1400.0.29.102)]"
  },
  "orig_nbformat": 4,
  "vscode": {
   "interpreter": {
    "hash": "df12510dcafc3d7a5765d44e655584599607d956035c964bfefb4ef5443f1a4f"
   }
  }
 },
 "nbformat": 4,
 "nbformat_minor": 2
}
