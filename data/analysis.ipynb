{
 "cells": [
  {
   "cell_type": "code",
   "execution_count": 8,
   "metadata": {},
   "outputs": [],
   "source": [
    "from loader import load_data\n",
    "import pprint"
   ]
  },
  {
   "cell_type": "code",
   "execution_count": 2,
   "metadata": {},
   "outputs": [
    {
     "name": "stdout",
     "output_type": "stream",
     "text": [
      "### data already downloaded, skipping download ###\n"
     ]
    },
    {
     "name": "stderr",
     "output_type": "stream",
     "text": [
      "/Users/ludwig/Repositories/seq2seq-slr/.venv/lib/python3.9/site-packages/datasets/dataset_dict.py:1241: FutureWarning: 'fs' was is deprecated in favor of 'storage_options' in version 2.8.0 and will be removed in 3.0.0.\n",
      "You can remove this warning by passing 'storage_options=fs.storage_options' instead.\n",
      "  warnings.warn(\n"
     ]
    }
   ],
   "source": [
    "ds = load_data(langs=(\"en\",),quality=(\"gold\",\"silver\"))"
   ]
  },
  {
   "cell_type": "code",
   "execution_count": 3,
   "metadata": {},
   "outputs": [],
   "source": [
    "label_list = ds[\"train\"].features[\"verbnet\"].feature.feature.names"
   ]
  },
  {
   "cell_type": "code",
   "execution_count": 4,
   "metadata": {},
   "outputs": [
    {
     "name": "stdout",
     "output_type": "stream",
     "text": [
      "{'0': 0, 'Agent': 0, 'Asset': 0, 'Attribute': 0, 'AttributeOf': 0, 'Beneficiary': 0, 'Causer': 0, 'Co-Agent': 0, 'Co-Patient': 0, 'Co-Theme': 0, 'Consumer': 0, 'Destination': 0, 'Duration': 0, 'Experiencer': 0, 'Finish': 0, 'Frequency': 0, 'Goal': 0, 'Instrument': 0, 'Instance': 0, 'InstanceOf': 0, 'Location': 0, 'Manner': 0, 'Material': 0, 'Path': 0, 'Patient': 0, 'Pivot': 0, 'Product': 0, 'Recipient': 0, 'Result': 0, 'Source': 0, 'Start': 0, 'Stimulus': 0, 'Theme': 0, 'Time': 0, 'Topic': 0, 'Value': 0, 'Bearer': 0, 'Colour': 0, 'ColourOf': 0, 'ContentOf': 0, 'Content': 0, 'Creator': 0, 'Degree': 0, 'MadeOf': 0, 'Name': 0, 'Of': 0, 'Operand': 0, 'Owner': 0, 'Part': 0, 'PartOf': 0, 'Player': 0, 'Quantity': 0, 'Role': 0, 'Sub': 0, 'SubOf': 0, 'Title': 0, 'Unit': 0, 'User': 0, 'ClockTime': 0, 'DayOfMonth': 0, 'DayOfWeek': 0, 'Decade': 0, 'MonthOfYear': 0, 'YearOfCentury': 0, 'Affector': 0, 'Context': 0, 'Equal': 0, 'Extent': 0, 'Precondition': 0, 'Measure': 0, 'Cause': 0, 'Order': 0, 'Participant': 0, 'Similar': 0}\n"
     ]
    }
   ],
   "source": [
    "label_dict = {}\n",
    "\n",
    "for label in label_list:\n",
    "    label_dict[label] = 0"
   ]
  },
  {
   "cell_type": "code",
   "execution_count": 5,
   "metadata": {},
   "outputs": [],
   "source": [
    "def count_label(example):\n",
    "\n",
    "    for token in example[\"verbnet\"]:\n",
    "        for role in token:\n",
    "            role_name = label_list[role]\n",
    "            label_dict[role_name] += 1"
   ]
  },
  {
   "cell_type": "code",
   "execution_count": 6,
   "metadata": {},
   "outputs": [
    {
     "data": {
      "application/vnd.jupyter.widget-view+json": {
       "model_id": "b8c9e9e87de7477c971922a98457684d",
       "version_major": 2,
       "version_minor": 0
      },
      "text/plain": [
       "  0%|          | 0/124216 [00:00<?, ?ex/s]"
      ]
     },
     "metadata": {},
     "output_type": "display_data"
    },
    {
     "data": {
      "application/vnd.jupyter.widget-view+json": {
       "model_id": "220c4ef420b24d0fa448bcc1ddb22ead",
       "version_major": 2,
       "version_minor": 0
      },
      "text/plain": [
       "  0%|          | 0/13802 [00:00<?, ?ex/s]"
      ]
     },
     "metadata": {},
     "output_type": "display_data"
    },
    {
     "data": {
      "text/plain": [
       "DatasetDict({\n",
       "    train: Dataset({\n",
       "        features: ['tok', 'verbnet', 'sem', 'lang', 'quality', 'id'],\n",
       "        num_rows: 124216\n",
       "    })\n",
       "    test: Dataset({\n",
       "        features: ['tok', 'verbnet', 'sem', 'lang', 'quality', 'id'],\n",
       "        num_rows: 13802\n",
       "    })\n",
       "})"
      ]
     },
     "execution_count": 6,
     "metadata": {},
     "output_type": "execute_result"
    }
   ],
   "source": [
    "ds.map(count_label)\n"
   ]
  },
  {
   "cell_type": "code",
   "execution_count": 10,
   "metadata": {},
   "outputs": [
    {
     "name": "stdout",
     "output_type": "stream",
     "text": [
      "{'0': 1013153, 'Agent': 94519, 'Asset': 522, 'Attribute': 61287, 'AttributeOf': 37, 'Beneficiary': 4066, 'Causer': 2957, 'Co-Agent': 4533, 'Co-Patient': 372, 'Co-Theme': 19878, 'Consumer': 49, 'Destination': 13098, 'Duration': 2233, 'Experiencer': 28125, 'Finish': 701, 'Frequency': 35, 'Goal': 2291, 'Instrument': 2786, 'Instance': 10, 'InstanceOf': 118, 'Location': 32724, 'Manner': 9051, 'Material': 151, 'Path': 1485, 'Patient': 16842, 'Pivot': 11705, 'Product': 1556, 'Recipient': 7026, 'Result': 4117, 'Source': 11030, 'Start': 918, 'Stimulus': 24759, 'Theme': 153514, 'Time': 8794, 'Topic': 10446, 'Value': 2451, 'Bearer': 618, 'Colour': 2970, 'ColourOf': 0, 'ContentOf': 8, 'Content': 892, 'Creator': 7174, 'Degree': 0, 'MadeOf': 3957, 'Name': 3279, 'Of': 8708, 'Operand': 0, 'Owner': 1731, 'Part': 1812, 'PartOf': 19974, 'Player': 0, 'Quantity': 12564, 'Role': 497, 'Sub': 150, 'SubOf': 1244, 'Title': 1609, 'Unit': 40, 'User': 10062, 'ClockTime': 24, 'DayOfMonth': 3, 'DayOfWeek': 0, 'Decade': 0, 'MonthOfYear': 0, 'YearOfCentury': 0, 'Affector': 1, 'Context': 1918, 'Equal': 21121, 'Extent': 318, 'Precondition': 0, 'Measure': 0, 'Cause': 1, 'Order': 0, 'Participant': 0, 'Similar': 81}\n"
     ]
    }
   ],
   "source": [
    "print(label_dict)"
   ]
  }
 ],
 "metadata": {
  "kernelspec": {
   "display_name": ".venv",
   "language": "python",
   "name": "python3"
  },
  "language_info": {
   "codemirror_mode": {
    "name": "ipython",
    "version": 3
   },
   "file_extension": ".py",
   "mimetype": "text/x-python",
   "name": "python",
   "nbconvert_exporter": "python",
   "pygments_lexer": "ipython3",
   "version": "3.9.16"
  },
  "orig_nbformat": 4,
  "vscode": {
   "interpreter": {
    "hash": "df12510dcafc3d7a5765d44e655584599607d956035c964bfefb4ef5443f1a4f"
   }
  }
 },
 "nbformat": 4,
 "nbformat_minor": 2
}
